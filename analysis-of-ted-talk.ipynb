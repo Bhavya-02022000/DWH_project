{
 "cells": [
  {
   "cell_type": "markdown",
   "id": "57ddcf65",
   "metadata": {
    "papermill": {
     "duration": 0.017068,
     "end_time": "2022-03-27T17:30:09.029110",
     "exception": false,
     "start_time": "2022-03-27T17:30:09.012042",
     "status": "completed"
    },
    "tags": []
   },
   "source": [
    "## Let's find out the answer to the following questions!\n",
    "\n",
    "1. Finding the most popular TED talks\n",
    "2. Finding the most popular TED talks Speaker (in terms of number of talks)\n",
    "3. Month-wise Analysis of TED talk frequency\n",
    "4. Year-wise Analysis of TED talk frequency\n",
    "5. Finding TED talks of your favorite Author\n",
    "6. Finding TED talks with the best view to like ration\n",
    "7. Finding TED talks based on tags(like climate)\n",
    "8. Finding the most popular TED talks Speaker (in terms of number of views)"
   ]
  },
  {
   "cell_type": "code",
   "execution_count": 1,
   "id": "08451b35",
   "metadata": {
    "execution": {
     "iopub.execute_input": "2022-03-27T17:30:09.065187Z",
     "iopub.status.busy": "2022-03-27T17:30:09.063517Z",
     "iopub.status.idle": "2022-03-27T17:30:09.139878Z",
     "shell.execute_reply": "2022-03-27T17:30:09.139066Z",
     "shell.execute_reply.started": "2022-03-27T16:46:47.272601Z"
    },
    "papermill": {
     "duration": 0.094689,
     "end_time": "2022-03-27T17:30:09.140083",
     "exception": false,
     "start_time": "2022-03-27T17:30:09.045394",
     "status": "completed"
    },
    "tags": []
   },
   "outputs": [
    {
     "name": "stdout",
     "output_type": "stream",
     "text": [
      "/kaggle/input/ted-talks/data.csv\n"
     ]
    }
   ],
   "source": [
    "import numpy as np\n",
    "import pandas as pd\n",
    "\n",
    "import os\n",
    "for dirname, _, filenames in os.walk('/kaggle/input'):\n",
    "    for filename in filenames:\n",
    "        print(os.path.join(dirname, filename))\n",
    "        \n",
    "df = pd.read_csv('/kaggle/input/ted-talks/data.csv')"
   ]
  },
  {
   "cell_type": "markdown",
   "id": "2cf1661a",
   "metadata": {
    "papermill": {
     "duration": 0.016336,
     "end_time": "2022-03-27T17:30:09.171112",
     "exception": false,
     "start_time": "2022-03-27T17:30:09.154776",
     "status": "completed"
    },
    "tags": []
   },
   "source": [
    "## Dataset walkthrough"
   ]
  },
  {
   "cell_type": "code",
   "execution_count": 2,
   "id": "589331f1",
   "metadata": {
    "execution": {
     "iopub.execute_input": "2022-03-27T17:30:09.203176Z",
     "iopub.status.busy": "2022-03-27T17:30:09.202366Z",
     "iopub.status.idle": "2022-03-27T17:30:09.226033Z",
     "shell.execute_reply": "2022-03-27T17:30:09.226618Z",
     "shell.execute_reply.started": "2022-03-27T16:46:47.348926Z"
    },
    "papermill": {
     "duration": 0.042007,
     "end_time": "2022-03-27T17:30:09.226821",
     "exception": false,
     "start_time": "2022-03-27T17:30:09.184814",
     "status": "completed"
    },
    "tags": []
   },
   "outputs": [
    {
     "data": {
      "text/html": [
       "<div>\n",
       "<style scoped>\n",
       "    .dataframe tbody tr th:only-of-type {\n",
       "        vertical-align: middle;\n",
       "    }\n",
       "\n",
       "    .dataframe tbody tr th {\n",
       "        vertical-align: top;\n",
       "    }\n",
       "\n",
       "    .dataframe thead th {\n",
       "        text-align: right;\n",
       "    }\n",
       "</style>\n",
       "<table border=\"1\" class=\"dataframe\">\n",
       "  <thead>\n",
       "    <tr style=\"text-align: right;\">\n",
       "      <th></th>\n",
       "      <th>title</th>\n",
       "      <th>author</th>\n",
       "      <th>date</th>\n",
       "      <th>views</th>\n",
       "      <th>likes</th>\n",
       "      <th>link</th>\n",
       "    </tr>\n",
       "  </thead>\n",
       "  <tbody>\n",
       "    <tr>\n",
       "      <th>0</th>\n",
       "      <td>Climate action needs new frontline leadership</td>\n",
       "      <td>Ozawa Bineshi Albert</td>\n",
       "      <td>December 2021</td>\n",
       "      <td>404000</td>\n",
       "      <td>12000</td>\n",
       "      <td>https://ted.com/talks/ozawa_bineshi_albert_cli...</td>\n",
       "    </tr>\n",
       "    <tr>\n",
       "      <th>1</th>\n",
       "      <td>The dark history of the overthrow of Hawaii</td>\n",
       "      <td>Sydney Iaukea</td>\n",
       "      <td>February 2022</td>\n",
       "      <td>214000</td>\n",
       "      <td>6400</td>\n",
       "      <td>https://ted.com/talks/sydney_iaukea_the_dark_h...</td>\n",
       "    </tr>\n",
       "    <tr>\n",
       "      <th>2</th>\n",
       "      <td>How play can spark new ideas for your business</td>\n",
       "      <td>Martin Reeves</td>\n",
       "      <td>September 2021</td>\n",
       "      <td>412000</td>\n",
       "      <td>12000</td>\n",
       "      <td>https://ted.com/talks/martin_reeves_how_play_c...</td>\n",
       "    </tr>\n",
       "    <tr>\n",
       "      <th>3</th>\n",
       "      <td>Why is China appointing judges to combat clima...</td>\n",
       "      <td>James K. Thornton</td>\n",
       "      <td>October 2021</td>\n",
       "      <td>427000</td>\n",
       "      <td>12000</td>\n",
       "      <td>https://ted.com/talks/james_k_thornton_why_is_...</td>\n",
       "    </tr>\n",
       "    <tr>\n",
       "      <th>4</th>\n",
       "      <td>Cement's carbon problem — and 2 ways to fix it</td>\n",
       "      <td>Mahendra Singhi</td>\n",
       "      <td>October 2021</td>\n",
       "      <td>2400</td>\n",
       "      <td>72</td>\n",
       "      <td>https://ted.com/talks/mahendra_singhi_cement_s...</td>\n",
       "    </tr>\n",
       "  </tbody>\n",
       "</table>\n",
       "</div>"
      ],
      "text/plain": [
       "                                               title                author  \\\n",
       "0      Climate action needs new frontline leadership  Ozawa Bineshi Albert   \n",
       "1        The dark history of the overthrow of Hawaii         Sydney Iaukea   \n",
       "2     How play can spark new ideas for your business         Martin Reeves   \n",
       "3  Why is China appointing judges to combat clima...     James K. Thornton   \n",
       "4     Cement's carbon problem — and 2 ways to fix it       Mahendra Singhi   \n",
       "\n",
       "             date   views  likes  \\\n",
       "0   December 2021  404000  12000   \n",
       "1   February 2022  214000   6400   \n",
       "2  September 2021  412000  12000   \n",
       "3    October 2021  427000  12000   \n",
       "4    October 2021    2400     72   \n",
       "\n",
       "                                                link  \n",
       "0  https://ted.com/talks/ozawa_bineshi_albert_cli...  \n",
       "1  https://ted.com/talks/sydney_iaukea_the_dark_h...  \n",
       "2  https://ted.com/talks/martin_reeves_how_play_c...  \n",
       "3  https://ted.com/talks/james_k_thornton_why_is_...  \n",
       "4  https://ted.com/talks/mahendra_singhi_cement_s...  "
      ]
     },
     "execution_count": 2,
     "metadata": {},
     "output_type": "execute_result"
    }
   ],
   "source": [
    "df.head()"
   ]
  },
  {
   "cell_type": "code",
   "execution_count": 3,
   "id": "7640fa2c",
   "metadata": {
    "execution": {
     "iopub.execute_input": "2022-03-27T17:30:09.262632Z",
     "iopub.status.busy": "2022-03-27T17:30:09.261787Z",
     "iopub.status.idle": "2022-03-27T17:30:09.294940Z",
     "shell.execute_reply": "2022-03-27T17:30:09.295828Z",
     "shell.execute_reply.started": "2022-03-27T16:46:47.372829Z"
    },
    "papermill": {
     "duration": 0.053931,
     "end_time": "2022-03-27T17:30:09.296054",
     "exception": false,
     "start_time": "2022-03-27T17:30:09.242123",
     "status": "completed"
    },
    "tags": []
   },
   "outputs": [
    {
     "name": "stdout",
     "output_type": "stream",
     "text": [
      "<class 'pandas.core.frame.DataFrame'>\n",
      "RangeIndex: 5440 entries, 0 to 5439\n",
      "Data columns (total 6 columns):\n",
      " #   Column  Non-Null Count  Dtype \n",
      "---  ------  --------------  ----- \n",
      " 0   title   5440 non-null   object\n",
      " 1   author  5439 non-null   object\n",
      " 2   date    5440 non-null   object\n",
      " 3   views   5440 non-null   int64 \n",
      " 4   likes   5440 non-null   int64 \n",
      " 5   link    5440 non-null   object\n",
      "dtypes: int64(2), object(4)\n",
      "memory usage: 255.1+ KB\n"
     ]
    }
   ],
   "source": [
    "df.info()"
   ]
  },
  {
   "cell_type": "code",
   "execution_count": 4,
   "id": "15e7727b",
   "metadata": {
    "execution": {
     "iopub.execute_input": "2022-03-27T17:30:09.332821Z",
     "iopub.status.busy": "2022-03-27T17:30:09.332040Z",
     "iopub.status.idle": "2022-03-27T17:30:09.346906Z",
     "shell.execute_reply": "2022-03-27T17:30:09.346257Z",
     "shell.execute_reply.started": "2022-03-27T16:49:35.469819Z"
    },
    "papermill": {
     "duration": 0.034406,
     "end_time": "2022-03-27T17:30:09.347085",
     "exception": false,
     "start_time": "2022-03-27T17:30:09.312679",
     "status": "completed"
    },
    "tags": []
   },
   "outputs": [
    {
     "data": {
      "text/plain": [
       "title     0\n",
       "author    1\n",
       "date      0\n",
       "views     0\n",
       "likes     0\n",
       "link      0\n",
       "dtype: int64"
      ]
     },
     "execution_count": 4,
     "metadata": {},
     "output_type": "execute_result"
    }
   ],
   "source": [
    "df.isnull().sum()"
   ]
  },
  {
   "cell_type": "code",
   "execution_count": 5,
   "id": "d4186e2a",
   "metadata": {
    "execution": {
     "iopub.execute_input": "2022-03-27T17:30:09.391384Z",
     "iopub.status.busy": "2022-03-27T17:30:09.390138Z",
     "iopub.status.idle": "2022-03-27T17:30:09.395349Z",
     "shell.execute_reply": "2022-03-27T17:30:09.396149Z",
     "shell.execute_reply.started": "2022-03-27T16:49:52.181573Z"
    },
    "papermill": {
     "duration": 0.034076,
     "end_time": "2022-03-27T17:30:09.396356",
     "exception": false,
     "start_time": "2022-03-27T17:30:09.362280",
     "status": "completed"
    },
    "tags": []
   },
   "outputs": [],
   "source": [
    "df.dropna(inplace = True)"
   ]
  },
  {
   "cell_type": "code",
   "execution_count": 6,
   "id": "d506b5ba",
   "metadata": {
    "execution": {
     "iopub.execute_input": "2022-03-27T17:30:09.438099Z",
     "iopub.status.busy": "2022-03-27T17:30:09.434456Z",
     "iopub.status.idle": "2022-03-27T17:30:09.453242Z",
     "shell.execute_reply": "2022-03-27T17:30:09.452459Z",
     "shell.execute_reply.started": "2022-03-27T16:50:01.934063Z"
    },
    "papermill": {
     "duration": 0.040776,
     "end_time": "2022-03-27T17:30:09.453402",
     "exception": false,
     "start_time": "2022-03-27T17:30:09.412626",
     "status": "completed"
    },
    "tags": []
   },
   "outputs": [
    {
     "data": {
      "text/plain": [
       "title     0\n",
       "author    0\n",
       "date      0\n",
       "views     0\n",
       "likes     0\n",
       "link      0\n",
       "dtype: int64"
      ]
     },
     "execution_count": 6,
     "metadata": {},
     "output_type": "execute_result"
    }
   ],
   "source": [
    "df.isnull().sum()"
   ]
  },
  {
   "cell_type": "markdown",
   "id": "b860ec54",
   "metadata": {
    "papermill": {
     "duration": 0.016194,
     "end_time": "2022-03-27T17:30:09.486223",
     "exception": false,
     "start_time": "2022-03-27T17:30:09.470029",
     "status": "completed"
    },
    "tags": []
   },
   "source": [
    "## Finding the most popular TED talks"
   ]
  },
  {
   "cell_type": "code",
   "execution_count": 7,
   "id": "324c46e5",
   "metadata": {
    "execution": {
     "iopub.execute_input": "2022-03-27T17:30:09.526117Z",
     "iopub.status.busy": "2022-03-27T17:30:09.525331Z",
     "iopub.status.idle": "2022-03-27T17:30:09.547612Z",
     "shell.execute_reply": "2022-03-27T17:30:09.548163Z",
     "shell.execute_reply.started": "2022-03-27T16:51:32.577578Z"
    },
    "papermill": {
     "duration": 0.04582,
     "end_time": "2022-03-27T17:30:09.548366",
     "exception": false,
     "start_time": "2022-03-27T17:30:09.502546",
     "status": "completed"
    },
    "tags": []
   },
   "outputs": [
    {
     "data": {
      "text/html": [
       "<div>\n",
       "<style scoped>\n",
       "    .dataframe tbody tr th:only-of-type {\n",
       "        vertical-align: middle;\n",
       "    }\n",
       "\n",
       "    .dataframe tbody tr th {\n",
       "        vertical-align: top;\n",
       "    }\n",
       "\n",
       "    .dataframe thead th {\n",
       "        text-align: right;\n",
       "    }\n",
       "</style>\n",
       "<table border=\"1\" class=\"dataframe\">\n",
       "  <thead>\n",
       "    <tr style=\"text-align: right;\">\n",
       "      <th></th>\n",
       "      <th>title</th>\n",
       "      <th>author</th>\n",
       "      <th>date</th>\n",
       "      <th>views</th>\n",
       "      <th>likes</th>\n",
       "      <th>link</th>\n",
       "    </tr>\n",
       "  </thead>\n",
       "  <tbody>\n",
       "    <tr>\n",
       "      <th>5436</th>\n",
       "      <td>Do schools kill creativity?</td>\n",
       "      <td>Sir Ken Robinson</td>\n",
       "      <td>February 2006</td>\n",
       "      <td>72000000</td>\n",
       "      <td>2100000</td>\n",
       "      <td>https://ted.com/talks/sir_ken_robinson_do_scho...</td>\n",
       "    </tr>\n",
       "    <tr>\n",
       "      <th>4084</th>\n",
       "      <td>Your body language may shape who you are</td>\n",
       "      <td>Amy Cuddy</td>\n",
       "      <td>June 2012</td>\n",
       "      <td>64000000</td>\n",
       "      <td>1900000</td>\n",
       "      <td>https://ted.com/talks/amy_cuddy_your_body_lang...</td>\n",
       "    </tr>\n",
       "    <tr>\n",
       "      <th>2958</th>\n",
       "      <td>Inside the mind of a master procrastinator</td>\n",
       "      <td>Tim Urban</td>\n",
       "      <td>February 2016</td>\n",
       "      <td>60000000</td>\n",
       "      <td>1800000</td>\n",
       "      <td>https://ted.com/talks/tim_urban_inside_the_min...</td>\n",
       "    </tr>\n",
       "    <tr>\n",
       "      <th>4765</th>\n",
       "      <td>How great leaders inspire action</td>\n",
       "      <td>Simon Sinek</td>\n",
       "      <td>September 2009</td>\n",
       "      <td>57000000</td>\n",
       "      <td>1700000</td>\n",
       "      <td>https://ted.com/talks/simon_sinek_how_great_le...</td>\n",
       "    </tr>\n",
       "    <tr>\n",
       "      <th>4605</th>\n",
       "      <td>The power of vulnerability</td>\n",
       "      <td>Brené Brown</td>\n",
       "      <td>June 2010</td>\n",
       "      <td>56000000</td>\n",
       "      <td>1700000</td>\n",
       "      <td>https://ted.com/talks/brene_brown_the_power_of...</td>\n",
       "    </tr>\n",
       "    <tr>\n",
       "      <th>...</th>\n",
       "      <td>...</td>\n",
       "      <td>...</td>\n",
       "      <td>...</td>\n",
       "      <td>...</td>\n",
       "      <td>...</td>\n",
       "      <td>...</td>\n",
       "    </tr>\n",
       "    <tr>\n",
       "      <th>478</th>\n",
       "      <td>The case for public media</td>\n",
       "      <td>Qi Wu 吴琪</td>\n",
       "      <td>November 2020</td>\n",
       "      <td>1500</td>\n",
       "      <td>47</td>\n",
       "      <td>https://ted.com/talks/qi_wu_the_case_for_publi...</td>\n",
       "    </tr>\n",
       "    <tr>\n",
       "      <th>1064</th>\n",
       "      <td>\"Jamie Raeburn\" / \"Baloo Baleerie\" / \"Twa recr...</td>\n",
       "      <td>Findlay Napier and Gillian Frame</td>\n",
       "      <td>July 2019</td>\n",
       "      <td>1300</td>\n",
       "      <td>40</td>\n",
       "      <td>https://ted.com/talks/findlay_napier_and_gilli...</td>\n",
       "    </tr>\n",
       "    <tr>\n",
       "      <th>1692</th>\n",
       "      <td>\"Part II. The Journey Through Time\" / \"Ruslan ...</td>\n",
       "      <td>Deutsche Philharmonie Merck</td>\n",
       "      <td>November 2018</td>\n",
       "      <td>1300</td>\n",
       "      <td>40</td>\n",
       "      <td>https://ted.com/talks/deutsche_philharmonie_me...</td>\n",
       "    </tr>\n",
       "    <tr>\n",
       "      <th>552</th>\n",
       "      <td>Virtual Worlds</td>\n",
       "      <td>Far Flung</td>\n",
       "      <td>November 2020</td>\n",
       "      <td>1300</td>\n",
       "      <td>39</td>\n",
       "      <td>https://ted.com/talks/far_flung_virtual_worlds</td>\n",
       "    </tr>\n",
       "    <tr>\n",
       "      <th>613</th>\n",
       "      <td>Post-Pandemic Paradise in Rapa Nui</td>\n",
       "      <td>Far Flung</td>\n",
       "      <td>October 2020</td>\n",
       "      <td>1200</td>\n",
       "      <td>37</td>\n",
       "      <td>https://ted.com/talks/far_flung_post_pandemic_...</td>\n",
       "    </tr>\n",
       "  </tbody>\n",
       "</table>\n",
       "<p>5439 rows × 6 columns</p>\n",
       "</div>"
      ],
      "text/plain": [
       "                                                  title  \\\n",
       "5436                        Do schools kill creativity?   \n",
       "4084           Your body language may shape who you are   \n",
       "2958         Inside the mind of a master procrastinator   \n",
       "4765                   How great leaders inspire action   \n",
       "4605                         The power of vulnerability   \n",
       "...                                                 ...   \n",
       "478                           The case for public media   \n",
       "1064  \"Jamie Raeburn\" / \"Baloo Baleerie\" / \"Twa recr...   \n",
       "1692  \"Part II. The Journey Through Time\" / \"Ruslan ...   \n",
       "552                                      Virtual Worlds   \n",
       "613                  Post-Pandemic Paradise in Rapa Nui   \n",
       "\n",
       "                                author            date     views    likes  \\\n",
       "5436                  Sir Ken Robinson   February 2006  72000000  2100000   \n",
       "4084                         Amy Cuddy       June 2012  64000000  1900000   \n",
       "2958                         Tim Urban   February 2016  60000000  1800000   \n",
       "4765                       Simon Sinek  September 2009  57000000  1700000   \n",
       "4605                       Brené Brown       June 2010  56000000  1700000   \n",
       "...                                ...             ...       ...      ...   \n",
       "478                           Qi Wu 吴琪   November 2020      1500       47   \n",
       "1064  Findlay Napier and Gillian Frame       July 2019      1300       40   \n",
       "1692       Deutsche Philharmonie Merck   November 2018      1300       40   \n",
       "552                          Far Flung   November 2020      1300       39   \n",
       "613                          Far Flung    October 2020      1200       37   \n",
       "\n",
       "                                                   link  \n",
       "5436  https://ted.com/talks/sir_ken_robinson_do_scho...  \n",
       "4084  https://ted.com/talks/amy_cuddy_your_body_lang...  \n",
       "2958  https://ted.com/talks/tim_urban_inside_the_min...  \n",
       "4765  https://ted.com/talks/simon_sinek_how_great_le...  \n",
       "4605  https://ted.com/talks/brene_brown_the_power_of...  \n",
       "...                                                 ...  \n",
       "478   https://ted.com/talks/qi_wu_the_case_for_publi...  \n",
       "1064  https://ted.com/talks/findlay_napier_and_gilli...  \n",
       "1692  https://ted.com/talks/deutsche_philharmonie_me...  \n",
       "552      https://ted.com/talks/far_flung_virtual_worlds  \n",
       "613   https://ted.com/talks/far_flung_post_pandemic_...  \n",
       "\n",
       "[5439 rows x 6 columns]"
      ]
     },
     "execution_count": 7,
     "metadata": {},
     "output_type": "execute_result"
    }
   ],
   "source": [
    "df.sort_values(by = ['views','likes'], ascending=False)"
   ]
  },
  {
   "cell_type": "markdown",
   "id": "1639329c",
   "metadata": {
    "papermill": {
     "duration": 0.015734,
     "end_time": "2022-03-27T17:30:09.580408",
     "exception": false,
     "start_time": "2022-03-27T17:30:09.564674",
     "status": "completed"
    },
    "tags": []
   },
   "source": [
    "## Finding the most popular TED talks Speaker (in terms of number of talks)"
   ]
  },
  {
   "cell_type": "code",
   "execution_count": 8,
   "id": "b05a0a21",
   "metadata": {
    "execution": {
     "iopub.execute_input": "2022-03-27T17:30:09.630628Z",
     "iopub.status.busy": "2022-03-27T17:30:09.629877Z",
     "iopub.status.idle": "2022-03-27T17:30:09.633226Z",
     "shell.execute_reply": "2022-03-27T17:30:09.633928Z",
     "shell.execute_reply.started": "2022-03-27T16:56:10.719389Z"
    },
    "papermill": {
     "duration": 0.037602,
     "end_time": "2022-03-27T17:30:09.634150",
     "exception": false,
     "start_time": "2022-03-27T17:30:09.596548",
     "status": "completed"
    },
    "tags": []
   },
   "outputs": [
    {
     "data": {
      "text/plain": [
       "author\n",
       " B.E.A.T. NYC           1\n",
       " Beautyrest             1\n",
       " Belle and Sebastian    1\n",
       " Butterscotch           1\n",
       " Climbing PoeTree       1\n",
       "                       ..\n",
       "eL Seed                 2\n",
       "iO Tillett Wright       1\n",
       "monday.com              1\n",
       "tobacco brown           1\n",
       "Özlem Cekic             1\n",
       "Length: 4443, dtype: int64"
      ]
     },
     "execution_count": 8,
     "metadata": {},
     "output_type": "execute_result"
    }
   ],
   "source": [
    "df.groupby('author').size()"
   ]
  },
  {
   "cell_type": "code",
   "execution_count": null,
   "id": "dee88ba4",
   "metadata": {
    "papermill": {
     "duration": 0.017007,
     "end_time": "2022-03-27T17:30:09.668948",
     "exception": false,
     "start_time": "2022-03-27T17:30:09.651941",
     "status": "completed"
    },
    "tags": []
   },
   "outputs": [],
   "source": []
  }
 ],
 "metadata": {
  "kernelspec": {
   "display_name": "Python 3",
   "language": "python",
   "name": "python3"
  },
  "language_info": {
   "codemirror_mode": {
    "name": "ipython",
    "version": 3
   },
   "file_extension": ".py",
   "mimetype": "text/x-python",
   "name": "python",
   "nbconvert_exporter": "python",
   "pygments_lexer": "ipython3",
   "version": "3.7.12"
  },
  "papermill": {
   "default_parameters": {},
   "duration": 12.814945,
   "end_time": "2022-03-27T17:30:10.501779",
   "environment_variables": {},
   "exception": null,
   "input_path": "__notebook__.ipynb",
   "output_path": "__notebook__.ipynb",
   "parameters": {},
   "start_time": "2022-03-27T17:29:57.686834",
   "version": "2.3.3"
  }
 },
 "nbformat": 4,
 "nbformat_minor": 5
}
